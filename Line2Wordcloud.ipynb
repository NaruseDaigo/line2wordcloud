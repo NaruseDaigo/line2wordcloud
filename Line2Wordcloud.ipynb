{
 "cells": [
  {
   "cell_type": "code",
   "execution_count": 9,
   "metadata": {},
   "outputs": [],
   "source": [
    "def parse_text(text):\n",
    "    import MeCab\n",
    "    import re\n",
    " \n",
    "    mecab = MeCab.Tagger('-d /usr/local/lib/mecab/dic/mecab-ipadic-neologd')\n",
    "    parsed = mecab.parse(text)\n",
    "    lines = parsed.split('\\n')\n",
    "    lines = lines[0:-2]\n",
    "    word_list = []\n",
    " \n",
    "    for line in lines:\n",
    "        tmp = re.split('\\t|,', line)  # 正規表現\\tか, でsplit\n",
    "        \n",
    "        # 名詞のみ対象\n",
    "        if tmp[1] in [\"名詞\"]:\n",
    "            word_list.append(tmp[7]) # 1: 表層形, 7: 原形\n",
    " \n",
    "    return \" \" . join(word_list)"
   ]
  },
  {
   "cell_type": "code",
   "execution_count": 20,
   "metadata": {},
   "outputs": [
    {
     "data": {
      "text/plain": [
       "<wordcloud.wordcloud.WordCloud at 0x7f9ee0e36a30>"
      ]
     },
     "execution_count": 20,
     "metadata": {},
     "output_type": "execute_result"
    }
   ],
   "source": [
    "import pandas as pd \n",
    "import re\n",
    "from wordcloud import WordCloud\n",
    " \n",
    "FONT_PATH = \"/System/Library/Fonts/ヒラギノ丸ゴ ProN W4.ttc\"\n",
    "myNAME = \"成瀬 大悟\"\n",
    "NAME = \"永野大河\"\n",
    "\n",
    "talks = pd.DataFrame(columns=[\"日付\", \"時刻\", \"発言者\", \"内容\"])\n",
    "\n",
    "f = open(f\"./トーク/[LINE] {NAME}とのトーク.txt\", encoding=\"UTF-8\")\n",
    "all_data = f.readlines()\n",
    "f.close()\n",
    "\n",
    "title = all_data[0]\n",
    "save_date = all_data[1]\n",
    "data = all_data[3:]\n",
    "\n",
    "# 下の正規表現ほど制約が緩いので、順番を下にすること\n",
    "p_date = re.compile(r\"\\d{4}\\/\\d{2}\\/\\d{2}\\(.\\)\\n\")\n",
    "p_talk = re.compile(r\"\\d{2}:\\d{2}\\t[\\w|\\s]+\\t(\\w*\\n*)\")\n",
    "p_cancel = re.compile(r\".*メッセージの送信を取り消しました.*\")\n",
    "p_textonly = re.compile(r\"(.+\\n*)\")\n",
    "p_br  = re.compile(r\"\\n\")\n",
    "\n",
    "my_texts = \"\"\n",
    "friend_texts = \"\"\n",
    "\n",
    "for i, line in enumerate(data):\n",
    "    if p_date.match(line):\n",
    "        pass\n",
    "    elif p_talk.match(line):\n",
    "        tmp = line.split(\"\\t\")[1]\n",
    "        if tmp == NAME:\n",
    "            friend_texts += p_talk.match(line).groups()[0]\n",
    "        elif tmp == myNAME:\n",
    "            my_texts += p_talk.match(line).groups()[0]\n",
    "        else:\n",
    "            print(\"error\")\n",
    "            \n",
    "    elif p_cancel.match(line):\n",
    "        pass\n",
    "    elif p_textonly.match(line):\n",
    "        if tmp == NAME:\n",
    "            friend_texts += p_textonly.match(line).groups()[0]\n",
    "        elif tmp == myNAME:\n",
    "            my_texts += p_textonly.match(line).groups()[0]\n",
    "        else:\n",
    "            print(\"error\")\n",
    "    elif p_br.match(line):\n",
    "        pass\n",
    "    else:\n",
    "        print(\"\\n\\texception occurs!!\")\n",
    "        print(f\"line :{i}\")\n",
    "        print(line)\n",
    "\n",
    "my_words = parse_text(my_texts)\n",
    "friend_words = parse_text(friend_texts)\n",
    "\n",
    "stop_words =  open(\"MySlothLib.txt\", encoding=\"utf8\").readlines()\n",
    "for i,  w in enumerate(stop_words):\n",
    "    stop_words[i] = w.rstrip('\\n')\n",
    "mylist = [\"笑\", \"笑笑\", \"通話\", \"時間\", \"今日\", \"明日\", \"ん\", \"の\", \"する\", \"ある\", \"やる\", \"いい\", \"こと\", \"そう\", \"それ\", \"おれ\", \"なん\", \"俺\", \"オレ\", \"これ\", \"http\", \"https\"]\n",
    "stop_words.extend(mylist)\n",
    "\n",
    "my_wc = WordCloud(max_font_size=100, \\\n",
    "               background_color=\"white\", \\\n",
    "               stopwords=set(stop_words), \\\n",
    "               width=400, height=400, \\\n",
    "               font_path=FONT_PATH).generate(my_words)\n",
    "fr_wc = WordCloud(max_font_size=100, \\\n",
    "               background_color=\"white\", \\\n",
    "               stopwords=set(stop_words), \\\n",
    "               width=400, height=400, \\\n",
    "               font_path=FONT_PATH).generate(friend_words)\n",
    "\n",
    "my_wc.to_file(f\"{myNAME}_to_{NAME}.png\")\n",
    "fr_wc.to_file(f\"{NAME}_to_{myNAME}.png\")"
   ]
  },
  {
   "cell_type": "code",
   "execution_count": null,
   "metadata": {},
   "outputs": [],
   "source": []
  }
 ],
 "metadata": {
  "kernelspec": {
   "display_name": "Python 3",
   "language": "python",
   "name": "python3"
  },
  "language_info": {
   "codemirror_mode": {
    "name": "ipython",
    "version": 3
   },
   "file_extension": ".py",
   "mimetype": "text/x-python",
   "name": "python",
   "nbconvert_exporter": "python",
   "pygments_lexer": "ipython3",
   "version": "3.8.3"
  },
  "toc": {
   "base_numbering": 1,
   "nav_menu": {},
   "number_sections": true,
   "sideBar": true,
   "skip_h1_title": false,
   "title_cell": "Table of Contents",
   "title_sidebar": "Contents",
   "toc_cell": false,
   "toc_position": {},
   "toc_section_display": true,
   "toc_window_display": false
  }
 },
 "nbformat": 4,
 "nbformat_minor": 4
}
